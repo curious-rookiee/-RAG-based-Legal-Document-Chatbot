{
 "cells": [
  {
   "cell_type": "markdown",
   "metadata": {},
   "source": [
    "# Ollama Legal PDF RAG Notebook"
   ]
  },
  {
   "cell_type": "markdown",
   "metadata": {},
   "source": [
    "## Import Libraries\n"
   ]
  },
  {
   "cell_type": "code",
   "execution_count": 2,
   "metadata": {},
   "outputs": [],
   "source": [
    "# Imports\n",
    "from langchain_community.document_loaders import UnstructuredPDFLoader\n",
    "from langchain_ollama import OllamaEmbeddings\n",
    "from langchain_text_splitters import RecursiveCharacterTextSplitter\n",
    "from langchain_community.vectorstores import Chroma\n",
    "from langchain.prompts import ChatPromptTemplate, PromptTemplate\n",
    "from langchain_core.output_parsers import StrOutputParser\n",
    "from langchain_ollama.chat_models import ChatOllama\n",
    "from langchain_core.runnables import RunnablePassthrough\n",
    "from langchain.retrievers.multi_query import MultiQueryRetriever\n",
    "\n",
    "# Suppress warnings\n",
    "import warnings\n",
    "warnings.filterwarnings('ignore')\n",
    "\n",
    "# Jupyter-specific imports\n",
    "from IPython.display import display, Markdown\n",
    "\n",
    "# Set environment variable for protobuf\n",
    "import os\n",
    "os.environ[\"PROTOCOL_BUFFERS_PYTHON_IMPLEMENTATION\"] = \"python\""
   ]
  },
  {
   "cell_type": "markdown",
   "metadata": {},
   "source": [
    "## Load PDF\n",
    "change the path to document for different case files"
   ]
  },
  {
   "cell_type": "code",
   "execution_count": null,
   "metadata": {},
   "outputs": [
    {
     "name": "stdout",
     "output_type": "stream",
     "text": [
      "PDF loaded successfully: sample_data\\Ram_Sarup_Gupta_Dead_By_Lrs_vs_Bishun_Narain_Inter_College_Ors_on_8_April_1987.PDF\n"
     ]
    }
   ],
   "source": [
    "# Load PDF\n",
    "\n",
    "local_path = \"sample_data\\Ram_Sarup_Gupta_Dead_By_Lrs_vs_Bishun_Narain_Inter_College_Ors_on_8_April_1987.PDF\"\n",
    "if local_path:\n",
    "    loader = UnstructuredPDFLoader(file_path=local_path)\n",
    "    data = loader.load()\n",
    "    print(f\"PDF loaded successfully: {local_path}\")\n",
    "else:\n",
    "    print(\"Upload a PDF file\")"
   ]
  },
  {
   "cell_type": "code",
   "execution_count": 4,
   "metadata": {},
   "outputs": [],
   "source": [
    "#print(data)"
   ]
  },
  {
   "cell_type": "markdown",
   "metadata": {},
   "source": [
    "## Split text into chunks"
   ]
  },
  {
   "cell_type": "code",
   "execution_count": 5,
   "metadata": {},
   "outputs": [
    {
     "name": "stdout",
     "output_type": "stream",
     "text": [
      "Text split into 31 chunks\n"
     ]
    }
   ],
   "source": [
    "# Split text into chunks\n",
    "text_splitter = RecursiveCharacterTextSplitter(chunk_size=3000, chunk_overlap=200)\n",
    "chunks = text_splitter.split_documents(data)\n",
    "print(f\"Text split into {len(chunks)} chunks\")"
   ]
  },
  {
   "cell_type": "code",
   "execution_count": 6,
   "metadata": {},
   "outputs": [],
   "source": [
    "#print(chunks)  # Display first 500 characters of the first chunk"
   ]
  },
  {
   "cell_type": "markdown",
   "metadata": {},
   "source": [
    "## Create vector database"
   ]
  },
  {
   "cell_type": "code",
   "execution_count": 7,
   "metadata": {},
   "outputs": [
    {
     "name": "stdout",
     "output_type": "stream",
     "text": [
      "Vector database created successfully\n"
     ]
    }
   ],
   "source": [
    "# Create vector database\n",
    "vector_db = Chroma.from_documents(\n",
    "    documents=chunks,\n",
    "    embedding=OllamaEmbeddings(model=\"nomic-embed-text\"),\n",
    "    collection_name=\"local-rag\"\n",
    ")\n",
    "print(\"Vector database created successfully\")"
   ]
  },
  {
   "cell_type": "markdown",
   "metadata": {},
   "source": [
    "## Set up LLM and Retrieval"
   ]
  },
  {
   "cell_type": "code",
   "execution_count": 8,
   "metadata": {},
   "outputs": [],
   "source": [
    "# Set up LLM and retrieval\n",
    "local_model = \"gemma3:4b\"  # or whichever model you prefer\n",
    "llm = ChatOllama(model=local_model)"
   ]
  },
  {
   "cell_type": "code",
   "execution_count": 9,
   "metadata": {},
   "outputs": [],
   "source": [
    "# Query prompt template\n",
    "QUERY_PROMPT = PromptTemplate(\n",
    "    input_variables=[\"question\"],\n",
    "    template=\"\"\"You are an AI language model assistant. Your task is to generate 2\n",
    "    different versions of the given user question to retrieve relevant documents from\n",
    "    a vector database. By generating multiple perspectives on the user question, your\n",
    "    goal is to help the user overcome some of the limitations of the distance-based\n",
    "    similarity search. Provide these alternative questions separated by newlines.\n",
    "    Original question: {question}\"\"\",\n",
    ")\n",
    "\n",
    "# Set up retriever\n",
    "retriever = MultiQueryRetriever.from_llm(\n",
    "    vector_db.as_retriever(), \n",
    "    llm,\n",
    "    prompt=QUERY_PROMPT\n",
    ")"
   ]
  },
  {
   "cell_type": "markdown",
   "metadata": {},
   "source": [
    "## Create chain"
   ]
  },
  {
   "cell_type": "code",
   "execution_count": 10,
   "metadata": {},
   "outputs": [],
   "source": [
    "# RAG prompt template\n",
    "template = \"\"\"\n",
    "You are a legal assistant. Use ONLY the information provided in the context below to answer the question as accurately and concisely as possible. Do not make up any information or provide legal advice.\n",
    "\n",
    "Context:\n",
    "{context}\n",
    "\n",
    "Question:\n",
    "{question}\n",
    "\n",
    "Answer (based strictly on the context):\n",
    "\"\"\"\n",
    "\n",
    "prompt = ChatPromptTemplate.from_template(template)"
   ]
  },
  {
   "cell_type": "code",
   "execution_count": 11,
   "metadata": {},
   "outputs": [],
   "source": [
    "# Create chain\n",
    "chain = (\n",
    "    {\"context\": retriever, \"question\": RunnablePassthrough()}\n",
    "    | prompt\n",
    "    | llm\n",
    "    | StrOutputParser()\n",
    ")"
   ]
  },
  {
   "cell_type": "markdown",
   "metadata": {},
   "source": [
    "## Chat with PDF"
   ]
  },
  {
   "cell_type": "code",
   "execution_count": 12,
   "metadata": {},
   "outputs": [],
   "source": [
    "def chat_with_pdf(question):\n",
    "    \"\"\"\n",
    "    Chat with the PDF using the RAG chain.\n",
    "    \"\"\"\n",
    "    return display(Markdown(chain.invoke(question)))"
   ]
  },
  {
   "cell_type": "code",
   "execution_count": 17,
   "metadata": {},
   "outputs": [
    {
     "data": {
      "text/markdown": [
       "According to the provided text, the main idea of the Irrevocable License for the school (Ram Sarup Gupta vs Bishun Narain) is that the school was able to successfully argue for an irrevocable license under Section 60(b) of the Act, despite not explicitly stating “acting upon the license” in their pleadings. The court upheld this claim because the defendants’ pleadings, when read as a whole, clearly indicated that they had made constructions and incurred expenses *as a result of* the license granted, meeting the legal requirements for an irrevocable license. The court emphasized that the substance of the pleadings was key, rather than precise wording."
      ],
      "text/plain": [
       "<IPython.core.display.Markdown object>"
      ]
     },
     "metadata": {},
     "output_type": "display_data"
    }
   ],
   "source": [
    "chat_with_pdf(\"What is the main idea of Irrevocable License for School: Ram Sarup Gupta vs Bishun Narain?\")"
   ]
  },
  {
   "cell_type": "code",
   "execution_count": null,
   "metadata": {},
   "outputs": [
    {
     "data": {
      "text/markdown": [
       "Here’s a summary of the arguments regarding the irrevocability of the license, based on the provided text:\n",
       "\n",
       "**Core Argument for Irrevocability:**\n",
       "\n",
       "The High Court and ultimately this Court (Supreme Court) held the license was irrevocably granted to the school due to three key factors:\n",
       "\n",
       "1.  **Permanent Construction:** The school erected works of a permanent nature on the property while operating the school.\n",
       "2.  **“Acting Upon the License”:** The construction was carried out “acting upon the license,” meaning the school was utilizing the rights granted to them through the license.\n",
       "3.  **Expenses Incurred:** The school incurred expenses in making the constructions.\n",
       "\n",
       "**Arguments Against Irrevocability (Rejected):**\n",
       "\n",
       "*   **Lack of Specific Pleadings:** The appellant (the original litigant) argued that the High Court and trial court didn't frame necessary issues or present sufficient evidence to support their decision. However, the Court rejected this, stating that pleadings didn’t need to reproduce exact wording and that the substance of the respondents’ case was sufficient.\n",
       "*   **Missing Issues:** The appellant contended that no issue was framed and no evidence was produced by them to support the revocability claim.\n",
       "\n",
       "**Key Legal Principle:**\n",
       "\n",
       "The Court emphasized the principle that if a grantor allows another to build on their land in furtherance of a licensed purpose, they cannot later revoke the license, particularly when the conditions of Section 60(b) of the Indian Easements Act (permanent construction, “acting upon the license,” and incurred expenses) are met."
      ],
      "text/plain": [
       "<IPython.core.display.Markdown object>"
      ]
     },
     "metadata": {},
     "output_type": "display_data"
    }
   ],
   "source": [
    "chat_with_pdf(\"Summarize the arguments regarding the irrevocability of the license.\")"
   ]
  },
  {
   "cell_type": "code",
   "execution_count": null,
   "metadata": {},
   "outputs": [
    {
     "data": {
      "text/markdown": [
       "The document details the case of *Ram Sohanlal Gupta v. Bishun Narain*. Here’s a breakdown of the key elements:\n",
       "\n",
       "*   **The Dispute:** Bishun Narain had a license to use a property granted by Ram Sohanlal Gupta. Narain then built permanent structures on the property and incurred expenses. The core of the case was whether the license was automatically revoked because Narain had built permanent structures.\n",
       "\n",
       "*   **Legal Basis:** The case hinges on sections of the Indian Easements Act (specifically sections 60-64) which govern licenses.\n",
       "\n",
       "*   **Section 60 (Irrevocable Licenses):** The Act outlines conditions under which a license is deemed irrevocable. These include:\n",
       "    *   The license being coupled with a transfer of property and enforced.\n",
       "    *   The licensee executing a permanent work and incurring expenses.\n",
       "\n",
       "*   **The Court’s Ruling:** The court found that *even though* Narain had built permanent structures (meeting one of the conditions for an irrevocable license), the parties could *agree* to make the license revocable despite this.  The court emphasized that the parties’ agreement superseded the automatic implications of the Act. This was based on the principle that if the parties mutually agreed to a different arrangement, it would be upheld.\n",
       "\n",
       "*   **Key takeaway:** The case highlights that the automatic provisions of the Easements Act regarding irrevocable licenses can be overridden by a specific agreement between the parties involved. The court prioritizes the parties’ expressed wishes over the general rules of the Act."
      ],
      "text/plain": [
       "<IPython.core.display.Markdown object>"
      ]
     },
     "metadata": {},
     "output_type": "display_data"
    }
   ],
   "source": [
    "chat_with_pdf(\"Can you explain the case study highlighted in the document?\")"
   ]
  },
  {
   "cell_type": "code",
   "execution_count": null,
   "metadata": {},
   "outputs": [
    {
     "data": {
      "text/markdown": [
       " 1. The document discusses a legal case, Ram Sarup Gupta (Dead) By Lrs vs Bishun Narain Inter College & Ors on 8 April, 1987, regarding a license grant and its revocation.\n",
       "2. The Indian Easement Act of 1882 is the primary legislation considered in this case.\n",
       "3. The document discusses various sections of the act, including Sections 52, 60, 62, 63, and 64.\n",
       "4. It highlights the importance of considering both oral and implied license grants when determining if a license is irrevocable.\n",
       "5. The conduct of parties and circumstances leading to the granting of a license are crucial in determining its revocability.\n",
       "6. The document emphasizes the need to focus on the substance of pleadings rather than undue emphasis on their form."
      ],
      "text/plain": [
       "<IPython.core.display.Markdown object>"
      ]
     },
     "metadata": {},
     "output_type": "display_data"
    }
   ],
   "source": [
    "chat_with_pdf(\"tell me the key points in the document\")"
   ]
  },
  {
   "cell_type": "markdown",
   "metadata": {},
   "source": [
    "## Chatbot UI"
   ]
  },
  {
   "cell_type": "code",
   "execution_count": 18,
   "metadata": {},
   "outputs": [
    {
     "name": "stdout",
     "output_type": "stream",
     "text": [
      "* Running on local URL:  http://127.0.0.1:7864\n"
     ]
    }
   ],
   "source": [
    "import gradio as gr\n",
    "import nest_asyncio\n",
    "nest_asyncio.apply()\n",
    "\n",
    "def gradio_interface(question, history):\n",
    "    try:\n",
    "        response = chain.invoke(question)\n",
    "    except Exception:\n",
    "        response = \"⚠️ Sorry, something went wrong while processing your request.\"\n",
    "    return response\n",
    "\n",
    "# Gradio UI\n",
    "demo = gr.ChatInterface(\n",
    "    fn=gradio_interface,\n",
    "    title=\"Legal Document Chatbot\",\n",
    "    description=\"Ask questions about the Document\",\n",
    "    examples=[\n",
    "        \"tell me the key points in the document.\",\n",
    "        \"Summarize the court's reasoning on this case.\"\n",
    "    ]\n",
    ")\n",
    "\n",
    "# ⚠️ Safely launch Gradio without showing tracebacks\n",
    "try:\n",
    "    demo.launch(share=True, show_error=False)  # `show_error=False` hides internal errors\n",
    "except Exception:\n",
    "    pass  \n"
   ]
  },
  {
   "cell_type": "markdown",
   "metadata": {},
   "source": [
    "## Clean up (optional)"
   ]
  },
  {
   "cell_type": "code",
   "execution_count": null,
   "metadata": {},
   "outputs": [],
   "source": [
    "# Optional: Clean up when done \n",
    "#vector_db.delete_collection()\n",
    "#print(\"Vector database deleted successfully\")"
   ]
  }
 ],
 "metadata": {
  "kernelspec": {
   "display_name": "rag-env",
   "language": "python",
   "name": "python3"
  },
  "language_info": {
   "codemirror_mode": {
    "name": "ipython",
    "version": 3
   },
   "file_extension": ".py",
   "mimetype": "text/x-python",
   "name": "python",
   "nbconvert_exporter": "python",
   "pygments_lexer": "ipython3",
   "version": "3.10.16"
  }
 },
 "nbformat": 4,
 "nbformat_minor": 2
}
